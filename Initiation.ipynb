{
 "cells": [
  {
   "cell_type": "markdown",
   "metadata": {},
   "source": [
    "# **IMPORT LIBRARY**"
   ]
  },
  {
   "cell_type": "code",
   "execution_count": 4,
   "metadata": {},
   "outputs": [],
   "source": [
    "import pandas as pd\n",
    "import requests\n",
    "import csv\n",
    "from io import StringIO\n",
    "from datetime import datetime"
   ]
  },
  {
   "cell_type": "markdown",
   "metadata": {},
   "source": [
    "# **Import First Data**"
   ]
  },
  {
   "cell_type": "code",
   "execution_count": 5,
   "metadata": {},
   "outputs": [],
   "source": [
    "url = \"https://www.alphavantage.co/query?function=ALL_COMMODITIES&interval=monthly&apikey=69FRR5Y479JKUCVX\"\n",
    "response = requests.get(url)\n",
    "json_data = response.json()\n",
    "df = pd.json_normalize(json_data['data'])\n",
    "df.to_csv('commodities.csv', index=False)"
   ]
  },
  {
   "cell_type": "code",
   "execution_count": 6,
   "metadata": {},
   "outputs": [
    {
     "name": "stdout",
     "output_type": "stream",
     "text": [
      "<class 'pandas.core.frame.DataFrame'>\n",
      "RangeIndex: 382 entries, 0 to 381\n",
      "Data columns (total 2 columns):\n",
      " #   Column  Non-Null Count  Dtype \n",
      "---  ------  --------------  ----- \n",
      " 0   date    382 non-null    object\n",
      " 1   value   382 non-null    object\n",
      "dtypes: object(2)\n",
      "memory usage: 6.1+ KB\n"
     ]
    }
   ],
   "source": [
    "data1 = pd.read_csv('commodities.csv')\n",
    "data1.info()"
   ]
  },
  {
   "cell_type": "markdown",
   "metadata": {},
   "source": [
    "# **Import Second Data**"
   ]
  },
  {
   "cell_type": "code",
   "execution_count": 7,
   "metadata": {},
   "outputs": [],
   "source": [
    "# Get the current year and current date\n",
    "current_year = datetime.now().year\n",
    "current_date = datetime.now().strftime(\"%Y-%m-%dT%H:%M:%S\")\n",
    "\n",
    "# Create the URL with dynamic startDateTime and endDateTime values\n",
    "url = f\"https://weather.visualcrossing.com/VisualCrossingWebServices/rest/services/weatherdata/history?&aggregateHours=24&startDateTime={current_year}-01-01T00:00:00&endDateTime={current_date}&unitGroup=metric&contentType=csv&dayStartTime=0:0:00&dayEndTime=0:0:00&location=US&key=9KVZ52XFSR3SZVFPKWAXWB3AS\"\n",
    "\n",
    "# Make the request to the API\n",
    "response = requests.get(url)\n",
    "\n",
    "# Check if the request was successful\n",
    "if response.status_code == 200:\n",
    "    # Mengambil data CSV menggunakan .text\n",
    "    csv_data = response.text\n",
    "\n",
    "    # Membaca data CSV dari string\n",
    "    csv_reader = csv.reader(StringIO(csv_data))\n",
    "\n",
    "    # Menyimpan data CSV ke dalam file\n",
    "    with open('weather.csv', 'w', newline='') as csv_file:\n",
    "        csv_writer = csv.writer(csv_file)\n",
    "\n",
    "        # Menulis setiap baris dari data CSV ke dalam file\n",
    "        csv_writer.writerows(csv_reader)\n",
    "else:\n",
    "    print(f\"Error: {response.status_code}\")"
   ]
  },
  {
   "cell_type": "code",
   "execution_count": 8,
   "metadata": {},
   "outputs": [
    {
     "name": "stdout",
     "output_type": "stream",
     "text": [
      "<class 'pandas.core.frame.DataFrame'>\n",
      "RangeIndex: 326 entries, 0 to 325\n",
      "Data columns (total 25 columns):\n",
      " #   Column               Non-Null Count  Dtype  \n",
      "---  ------               --------------  -----  \n",
      " 0   Address              326 non-null    object \n",
      " 1   Date time            326 non-null    object \n",
      " 2   Minimum Temperature  326 non-null    float64\n",
      " 3   Maximum Temperature  326 non-null    float64\n",
      " 4   Temperature          326 non-null    float64\n",
      " 5   Dew Point            326 non-null    float64\n",
      " 6   Relative Humidity    326 non-null    float64\n",
      " 7   Heat Index           115 non-null    float64\n",
      " 8   Wind Speed           326 non-null    float64\n",
      " 9   Wind Gust            218 non-null    float64\n",
      " 10  Wind Direction       326 non-null    float64\n",
      " 11  Wind Chill           135 non-null    float64\n",
      " 12  Precipitation        326 non-null    float64\n",
      " 13  Precipitation Cover  326 non-null    float64\n",
      " 14  Snow Depth           2 non-null      float64\n",
      " 15  Visibility           326 non-null    float64\n",
      " 16  Cloud Cover          326 non-null    float64\n",
      " 17  Sea Level Pressure   326 non-null    float64\n",
      " 18  Weather Type         194 non-null    object \n",
      " 19  Latitude             326 non-null    float64\n",
      " 20  Longitude            326 non-null    float64\n",
      " 21  Resolved Address     326 non-null    object \n",
      " 22  Name                 326 non-null    object \n",
      " 23  Info                 0 non-null      float64\n",
      " 24  Conditions           326 non-null    object \n",
      "dtypes: float64(19), object(6)\n",
      "memory usage: 63.8+ KB\n"
     ]
    }
   ],
   "source": [
    "data2 = pd.read_csv('weather.csv')\n",
    "data2.info()"
   ]
  },
  {
   "cell_type": "markdown",
   "metadata": {},
   "source": [
    "# **EDA on First Data**"
   ]
  },
  {
   "cell_type": "code",
   "execution_count": 9,
   "metadata": {},
   "outputs": [
    {
     "name": "stdout",
     "output_type": "stream",
     "text": [
      "<class 'pandas.core.frame.DataFrame'>\n",
      "RangeIndex: 382 entries, 0 to 381\n",
      "Data columns (total 2 columns):\n",
      " #   Column  Non-Null Count  Dtype \n",
      "---  ------  --------------  ----- \n",
      " 0   date    382 non-null    object\n",
      " 1   value   382 non-null    object\n",
      "dtypes: object(2)\n",
      "memory usage: 6.1+ KB\n"
     ]
    }
   ],
   "source": [
    "data1.info()"
   ]
  },
  {
   "cell_type": "code",
   "execution_count": 10,
   "metadata": {},
   "outputs": [
    {
     "data": {
      "text/html": [
       "<div>\n",
       "<style scoped>\n",
       "    .dataframe tbody tr th:only-of-type {\n",
       "        vertical-align: middle;\n",
       "    }\n",
       "\n",
       "    .dataframe tbody tr th {\n",
       "        vertical-align: top;\n",
       "    }\n",
       "\n",
       "    .dataframe thead th {\n",
       "        text-align: right;\n",
       "    }\n",
       "</style>\n",
       "<table border=\"1\" class=\"dataframe\">\n",
       "  <thead>\n",
       "    <tr style=\"text-align: right;\">\n",
       "      <th></th>\n",
       "      <th>date</th>\n",
       "      <th>value</th>\n",
       "    </tr>\n",
       "  </thead>\n",
       "  <tbody>\n",
       "    <tr>\n",
       "      <th>0</th>\n",
       "      <td>2023-10-01</td>\n",
       "      <td>167.77064363426</td>\n",
       "    </tr>\n",
       "    <tr>\n",
       "      <th>1</th>\n",
       "      <td>2023-09-01</td>\n",
       "      <td>168.657488561668</td>\n",
       "    </tr>\n",
       "    <tr>\n",
       "      <th>2</th>\n",
       "      <td>2023-08-01</td>\n",
       "      <td>161.30619330389</td>\n",
       "    </tr>\n",
       "    <tr>\n",
       "      <th>3</th>\n",
       "      <td>2023-07-01</td>\n",
       "      <td>157.908976461302</td>\n",
       "    </tr>\n",
       "    <tr>\n",
       "      <th>4</th>\n",
       "      <td>2023-06-01</td>\n",
       "      <td>154.069169324197</td>\n",
       "    </tr>\n",
       "    <tr>\n",
       "      <th>...</th>\n",
       "      <td>...</td>\n",
       "      <td>...</td>\n",
       "    </tr>\n",
       "    <tr>\n",
       "      <th>377</th>\n",
       "      <td>1992-05-01</td>\n",
       "      <td>.</td>\n",
       "    </tr>\n",
       "    <tr>\n",
       "      <th>378</th>\n",
       "      <td>1992-04-01</td>\n",
       "      <td>.</td>\n",
       "    </tr>\n",
       "    <tr>\n",
       "      <th>379</th>\n",
       "      <td>1992-03-01</td>\n",
       "      <td>.</td>\n",
       "    </tr>\n",
       "    <tr>\n",
       "      <th>380</th>\n",
       "      <td>1992-02-01</td>\n",
       "      <td>.</td>\n",
       "    </tr>\n",
       "    <tr>\n",
       "      <th>381</th>\n",
       "      <td>1992-01-01</td>\n",
       "      <td>.</td>\n",
       "    </tr>\n",
       "  </tbody>\n",
       "</table>\n",
       "<p>382 rows × 2 columns</p>\n",
       "</div>"
      ],
      "text/plain": [
       "           date             value\n",
       "0    2023-10-01   167.77064363426\n",
       "1    2023-09-01  168.657488561668\n",
       "2    2023-08-01   161.30619330389\n",
       "3    2023-07-01  157.908976461302\n",
       "4    2023-06-01  154.069169324197\n",
       "..          ...               ...\n",
       "377  1992-05-01                 .\n",
       "378  1992-04-01                 .\n",
       "379  1992-03-01                 .\n",
       "380  1992-02-01                 .\n",
       "381  1992-01-01                 .\n",
       "\n",
       "[382 rows x 2 columns]"
      ]
     },
     "execution_count": 10,
     "metadata": {},
     "output_type": "execute_result"
    }
   ],
   "source": [
    "data1"
   ]
  },
  {
   "cell_type": "markdown",
   "metadata": {},
   "source": [
    "## value"
   ]
  },
  {
   "cell_type": "code",
   "execution_count": 11,
   "metadata": {},
   "outputs": [
    {
     "data": {
      "text/plain": [
       "value\n",
       ".                   132\n",
       "120.502487414329      1\n",
       "137.843341038294      1\n",
       "137.719023925784      1\n",
       "140.402469952676      1\n",
       "                   ... \n",
       "103.515057896825      1\n",
       "100.832288233466      1\n",
       "96.9279430586823      1\n",
       "93.5966567628088      1\n",
       "166.74340866391       1\n",
       "Name: count, Length: 251, dtype: int64"
      ]
     },
     "execution_count": 11,
     "metadata": {},
     "output_type": "execute_result"
    }
   ],
   "source": [
    "data1['value'].value_counts()"
   ]
  },
  {
   "cell_type": "markdown",
   "metadata": {},
   "source": [
    "## date"
   ]
  },
  {
   "cell_type": "code",
   "execution_count": 12,
   "metadata": {},
   "outputs": [
    {
     "data": {
      "text/plain": [
       "date\n",
       "2023-10-01    1\n",
       "2002-11-01    1\n",
       "2002-02-01    1\n",
       "2002-03-01    1\n",
       "2002-04-01    1\n",
       "             ..\n",
       "2013-05-01    1\n",
       "2013-06-01    1\n",
       "2013-07-01    1\n",
       "2013-08-01    1\n",
       "1992-01-01    1\n",
       "Name: count, Length: 382, dtype: int64"
      ]
     },
     "execution_count": 12,
     "metadata": {},
     "output_type": "execute_result"
    }
   ],
   "source": [
    "data1['date'].value_counts()"
   ]
  },
  {
   "cell_type": "markdown",
   "metadata": {},
   "source": [
    "# **Feature Engineering on First Data**"
   ]
  },
  {
   "cell_type": "markdown",
   "metadata": {},
   "source": [
    "## 'date' to datetime"
   ]
  },
  {
   "cell_type": "code",
   "execution_count": 13,
   "metadata": {},
   "outputs": [],
   "source": [
    "data1['date'] = pd.to_datetime(data1['date'])"
   ]
  },
  {
   "cell_type": "code",
   "execution_count": 14,
   "metadata": {},
   "outputs": [],
   "source": [
    "data1 = data1[data1['date'].dt.year == 2023]"
   ]
  },
  {
   "cell_type": "markdown",
   "metadata": {},
   "source": [
    "## Make 'date' into ascending"
   ]
  },
  {
   "cell_type": "code",
   "execution_count": 15,
   "metadata": {},
   "outputs": [],
   "source": [
    "data1 = data1.sort_values(by='date', ascending=True, ignore_index=True)"
   ]
  },
  {
   "cell_type": "markdown",
   "metadata": {},
   "source": [
    "# **EDA on Second Data**"
   ]
  },
  {
   "cell_type": "code",
   "execution_count": 16,
   "metadata": {},
   "outputs": [
    {
     "name": "stdout",
     "output_type": "stream",
     "text": [
      "<class 'pandas.core.frame.DataFrame'>\n",
      "RangeIndex: 326 entries, 0 to 325\n",
      "Data columns (total 25 columns):\n",
      " #   Column               Non-Null Count  Dtype  \n",
      "---  ------               --------------  -----  \n",
      " 0   Address              326 non-null    object \n",
      " 1   Date time            326 non-null    object \n",
      " 2   Minimum Temperature  326 non-null    float64\n",
      " 3   Maximum Temperature  326 non-null    float64\n",
      " 4   Temperature          326 non-null    float64\n",
      " 5   Dew Point            326 non-null    float64\n",
      " 6   Relative Humidity    326 non-null    float64\n",
      " 7   Heat Index           115 non-null    float64\n",
      " 8   Wind Speed           326 non-null    float64\n",
      " 9   Wind Gust            218 non-null    float64\n",
      " 10  Wind Direction       326 non-null    float64\n",
      " 11  Wind Chill           135 non-null    float64\n",
      " 12  Precipitation        326 non-null    float64\n",
      " 13  Precipitation Cover  326 non-null    float64\n",
      " 14  Snow Depth           2 non-null      float64\n",
      " 15  Visibility           326 non-null    float64\n",
      " 16  Cloud Cover          326 non-null    float64\n",
      " 17  Sea Level Pressure   326 non-null    float64\n",
      " 18  Weather Type         194 non-null    object \n",
      " 19  Latitude             326 non-null    float64\n",
      " 20  Longitude            326 non-null    float64\n",
      " 21  Resolved Address     326 non-null    object \n",
      " 22  Name                 326 non-null    object \n",
      " 23  Info                 0 non-null      float64\n",
      " 24  Conditions           326 non-null    object \n",
      "dtypes: float64(19), object(6)\n",
      "memory usage: 63.8+ KB\n"
     ]
    }
   ],
   "source": [
    "data2.info()"
   ]
  },
  {
   "cell_type": "code",
   "execution_count": 17,
   "metadata": {},
   "outputs": [
    {
     "data": {
      "text/html": [
       "<div>\n",
       "<style scoped>\n",
       "    .dataframe tbody tr th:only-of-type {\n",
       "        vertical-align: middle;\n",
       "    }\n",
       "\n",
       "    .dataframe tbody tr th {\n",
       "        vertical-align: top;\n",
       "    }\n",
       "\n",
       "    .dataframe thead th {\n",
       "        text-align: right;\n",
       "    }\n",
       "</style>\n",
       "<table border=\"1\" class=\"dataframe\">\n",
       "  <thead>\n",
       "    <tr style=\"text-align: right;\">\n",
       "      <th></th>\n",
       "      <th>Address</th>\n",
       "      <th>Date time</th>\n",
       "      <th>Minimum Temperature</th>\n",
       "      <th>Maximum Temperature</th>\n",
       "      <th>Temperature</th>\n",
       "      <th>Dew Point</th>\n",
       "      <th>Relative Humidity</th>\n",
       "      <th>Heat Index</th>\n",
       "      <th>Wind Speed</th>\n",
       "      <th>Wind Gust</th>\n",
       "      <th>...</th>\n",
       "      <th>Visibility</th>\n",
       "      <th>Cloud Cover</th>\n",
       "      <th>Sea Level Pressure</th>\n",
       "      <th>Weather Type</th>\n",
       "      <th>Latitude</th>\n",
       "      <th>Longitude</th>\n",
       "      <th>Resolved Address</th>\n",
       "      <th>Name</th>\n",
       "      <th>Info</th>\n",
       "      <th>Conditions</th>\n",
       "    </tr>\n",
       "  </thead>\n",
       "  <tbody>\n",
       "    <tr>\n",
       "      <th>0</th>\n",
       "      <td>US</td>\n",
       "      <td>01/01/2023</td>\n",
       "      <td>6.4</td>\n",
       "      <td>16.3</td>\n",
       "      <td>11.0</td>\n",
       "      <td>7.9</td>\n",
       "      <td>82.24</td>\n",
       "      <td>NaN</td>\n",
       "      <td>14.2</td>\n",
       "      <td>NaN</td>\n",
       "      <td>...</td>\n",
       "      <td>14.6</td>\n",
       "      <td>47.7</td>\n",
       "      <td>1015.4</td>\n",
       "      <td>Mist, Fog</td>\n",
       "      <td>38.8904</td>\n",
       "      <td>-77.032</td>\n",
       "      <td>United States</td>\n",
       "      <td>United States</td>\n",
       "      <td>NaN</td>\n",
       "      <td>Rain, Partially cloudy</td>\n",
       "    </tr>\n",
       "    <tr>\n",
       "      <th>1</th>\n",
       "      <td>US</td>\n",
       "      <td>01/02/2023</td>\n",
       "      <td>4.4</td>\n",
       "      <td>17.2</td>\n",
       "      <td>10.5</td>\n",
       "      <td>6.8</td>\n",
       "      <td>79.25</td>\n",
       "      <td>NaN</td>\n",
       "      <td>14.7</td>\n",
       "      <td>NaN</td>\n",
       "      <td>...</td>\n",
       "      <td>15.9</td>\n",
       "      <td>87.8</td>\n",
       "      <td>1019.7</td>\n",
       "      <td>Mist</td>\n",
       "      <td>38.8904</td>\n",
       "      <td>-77.032</td>\n",
       "      <td>United States</td>\n",
       "      <td>United States</td>\n",
       "      <td>NaN</td>\n",
       "      <td>Overcast</td>\n",
       "    </tr>\n",
       "    <tr>\n",
       "      <th>2</th>\n",
       "      <td>US</td>\n",
       "      <td>01/03/2023</td>\n",
       "      <td>10.1</td>\n",
       "      <td>20.0</td>\n",
       "      <td>15.1</td>\n",
       "      <td>11.3</td>\n",
       "      <td>78.49</td>\n",
       "      <td>NaN</td>\n",
       "      <td>28.5</td>\n",
       "      <td>47.1</td>\n",
       "      <td>...</td>\n",
       "      <td>15.6</td>\n",
       "      <td>90.7</td>\n",
       "      <td>1014.0</td>\n",
       "      <td>Light Rain</td>\n",
       "      <td>38.8904</td>\n",
       "      <td>-77.032</td>\n",
       "      <td>United States</td>\n",
       "      <td>United States</td>\n",
       "      <td>NaN</td>\n",
       "      <td>Overcast</td>\n",
       "    </tr>\n",
       "    <tr>\n",
       "      <th>3</th>\n",
       "      <td>US</td>\n",
       "      <td>01/04/2023</td>\n",
       "      <td>11.9</td>\n",
       "      <td>18.3</td>\n",
       "      <td>15.3</td>\n",
       "      <td>12.8</td>\n",
       "      <td>85.43</td>\n",
       "      <td>NaN</td>\n",
       "      <td>22.8</td>\n",
       "      <td>50.0</td>\n",
       "      <td>...</td>\n",
       "      <td>15.9</td>\n",
       "      <td>85.1</td>\n",
       "      <td>1010.4</td>\n",
       "      <td>Light Rain</td>\n",
       "      <td>38.8904</td>\n",
       "      <td>-77.032</td>\n",
       "      <td>United States</td>\n",
       "      <td>United States</td>\n",
       "      <td>NaN</td>\n",
       "      <td>Overcast</td>\n",
       "    </tr>\n",
       "    <tr>\n",
       "      <th>4</th>\n",
       "      <td>US</td>\n",
       "      <td>01/05/2023</td>\n",
       "      <td>9.8</td>\n",
       "      <td>17.8</td>\n",
       "      <td>13.5</td>\n",
       "      <td>7.8</td>\n",
       "      <td>70.43</td>\n",
       "      <td>NaN</td>\n",
       "      <td>20.2</td>\n",
       "      <td>NaN</td>\n",
       "      <td>...</td>\n",
       "      <td>15.9</td>\n",
       "      <td>75.8</td>\n",
       "      <td>1013.3</td>\n",
       "      <td>Fog</td>\n",
       "      <td>38.8904</td>\n",
       "      <td>-77.032</td>\n",
       "      <td>United States</td>\n",
       "      <td>United States</td>\n",
       "      <td>NaN</td>\n",
       "      <td>Overcast</td>\n",
       "    </tr>\n",
       "    <tr>\n",
       "      <th>...</th>\n",
       "      <td>...</td>\n",
       "      <td>...</td>\n",
       "      <td>...</td>\n",
       "      <td>...</td>\n",
       "      <td>...</td>\n",
       "      <td>...</td>\n",
       "      <td>...</td>\n",
       "      <td>...</td>\n",
       "      <td>...</td>\n",
       "      <td>...</td>\n",
       "      <td>...</td>\n",
       "      <td>...</td>\n",
       "      <td>...</td>\n",
       "      <td>...</td>\n",
       "      <td>...</td>\n",
       "      <td>...</td>\n",
       "      <td>...</td>\n",
       "      <td>...</td>\n",
       "      <td>...</td>\n",
       "      <td>...</td>\n",
       "      <td>...</td>\n",
       "    </tr>\n",
       "    <tr>\n",
       "      <th>321</th>\n",
       "      <td>US</td>\n",
       "      <td>11/18/2023</td>\n",
       "      <td>8.2</td>\n",
       "      <td>15.6</td>\n",
       "      <td>12.8</td>\n",
       "      <td>4.9</td>\n",
       "      <td>62.37</td>\n",
       "      <td>NaN</td>\n",
       "      <td>31.4</td>\n",
       "      <td>59.0</td>\n",
       "      <td>...</td>\n",
       "      <td>15.9</td>\n",
       "      <td>38.1</td>\n",
       "      <td>1010.3</td>\n",
       "      <td>Mist, Light Rain</td>\n",
       "      <td>38.8904</td>\n",
       "      <td>-77.032</td>\n",
       "      <td>United States</td>\n",
       "      <td>United States</td>\n",
       "      <td>NaN</td>\n",
       "      <td>Rain, Partially cloudy</td>\n",
       "    </tr>\n",
       "    <tr>\n",
       "      <th>322</th>\n",
       "      <td>US</td>\n",
       "      <td>11/19/2023</td>\n",
       "      <td>3.9</td>\n",
       "      <td>15.9</td>\n",
       "      <td>9.7</td>\n",
       "      <td>-1.9</td>\n",
       "      <td>46.61</td>\n",
       "      <td>NaN</td>\n",
       "      <td>20.0</td>\n",
       "      <td>38.9</td>\n",
       "      <td>...</td>\n",
       "      <td>16.0</td>\n",
       "      <td>0.9</td>\n",
       "      <td>1016.6</td>\n",
       "      <td>NaN</td>\n",
       "      <td>38.8904</td>\n",
       "      <td>-77.032</td>\n",
       "      <td>United States</td>\n",
       "      <td>United States</td>\n",
       "      <td>NaN</td>\n",
       "      <td>Clear</td>\n",
       "    </tr>\n",
       "    <tr>\n",
       "      <th>323</th>\n",
       "      <td>US</td>\n",
       "      <td>11/20/2023</td>\n",
       "      <td>4.1</td>\n",
       "      <td>10.5</td>\n",
       "      <td>7.1</td>\n",
       "      <td>-1.5</td>\n",
       "      <td>55.23</td>\n",
       "      <td>NaN</td>\n",
       "      <td>17.2</td>\n",
       "      <td>33.5</td>\n",
       "      <td>...</td>\n",
       "      <td>16.0</td>\n",
       "      <td>55.1</td>\n",
       "      <td>1027.1</td>\n",
       "      <td>NaN</td>\n",
       "      <td>38.8904</td>\n",
       "      <td>-77.032</td>\n",
       "      <td>United States</td>\n",
       "      <td>United States</td>\n",
       "      <td>NaN</td>\n",
       "      <td>Partially cloudy</td>\n",
       "    </tr>\n",
       "    <tr>\n",
       "      <th>324</th>\n",
       "      <td>US</td>\n",
       "      <td>11/21/2023</td>\n",
       "      <td>4.0</td>\n",
       "      <td>14.9</td>\n",
       "      <td>8.9</td>\n",
       "      <td>5.6</td>\n",
       "      <td>80.39</td>\n",
       "      <td>NaN</td>\n",
       "      <td>25.9</td>\n",
       "      <td>44.3</td>\n",
       "      <td>...</td>\n",
       "      <td>10.9</td>\n",
       "      <td>97.6</td>\n",
       "      <td>1023.3</td>\n",
       "      <td>NaN</td>\n",
       "      <td>38.8904</td>\n",
       "      <td>-77.032</td>\n",
       "      <td>United States</td>\n",
       "      <td>United States</td>\n",
       "      <td>NaN</td>\n",
       "      <td>Rain, Overcast</td>\n",
       "    </tr>\n",
       "    <tr>\n",
       "      <th>325</th>\n",
       "      <td>US</td>\n",
       "      <td>11/22/2023</td>\n",
       "      <td>9.4</td>\n",
       "      <td>12.7</td>\n",
       "      <td>11.6</td>\n",
       "      <td>10.5</td>\n",
       "      <td>93.21</td>\n",
       "      <td>NaN</td>\n",
       "      <td>16.3</td>\n",
       "      <td>NaN</td>\n",
       "      <td>...</td>\n",
       "      <td>14.4</td>\n",
       "      <td>92.5</td>\n",
       "      <td>1009.6</td>\n",
       "      <td>NaN</td>\n",
       "      <td>38.8904</td>\n",
       "      <td>-77.032</td>\n",
       "      <td>United States</td>\n",
       "      <td>United States</td>\n",
       "      <td>NaN</td>\n",
       "      <td>Rain, Overcast</td>\n",
       "    </tr>\n",
       "  </tbody>\n",
       "</table>\n",
       "<p>326 rows × 25 columns</p>\n",
       "</div>"
      ],
      "text/plain": [
       "    Address   Date time  Minimum Temperature  Maximum Temperature  \\\n",
       "0        US  01/01/2023                  6.4                 16.3   \n",
       "1        US  01/02/2023                  4.4                 17.2   \n",
       "2        US  01/03/2023                 10.1                 20.0   \n",
       "3        US  01/04/2023                 11.9                 18.3   \n",
       "4        US  01/05/2023                  9.8                 17.8   \n",
       "..      ...         ...                  ...                  ...   \n",
       "321      US  11/18/2023                  8.2                 15.6   \n",
       "322      US  11/19/2023                  3.9                 15.9   \n",
       "323      US  11/20/2023                  4.1                 10.5   \n",
       "324      US  11/21/2023                  4.0                 14.9   \n",
       "325      US  11/22/2023                  9.4                 12.7   \n",
       "\n",
       "     Temperature  Dew Point  Relative Humidity  Heat Index  Wind Speed  \\\n",
       "0           11.0        7.9              82.24         NaN        14.2   \n",
       "1           10.5        6.8              79.25         NaN        14.7   \n",
       "2           15.1       11.3              78.49         NaN        28.5   \n",
       "3           15.3       12.8              85.43         NaN        22.8   \n",
       "4           13.5        7.8              70.43         NaN        20.2   \n",
       "..           ...        ...                ...         ...         ...   \n",
       "321         12.8        4.9              62.37         NaN        31.4   \n",
       "322          9.7       -1.9              46.61         NaN        20.0   \n",
       "323          7.1       -1.5              55.23         NaN        17.2   \n",
       "324          8.9        5.6              80.39         NaN        25.9   \n",
       "325         11.6       10.5              93.21         NaN        16.3   \n",
       "\n",
       "     Wind Gust  ...  Visibility  Cloud Cover  Sea Level Pressure  \\\n",
       "0          NaN  ...        14.6         47.7              1015.4   \n",
       "1          NaN  ...        15.9         87.8              1019.7   \n",
       "2         47.1  ...        15.6         90.7              1014.0   \n",
       "3         50.0  ...        15.9         85.1              1010.4   \n",
       "4          NaN  ...        15.9         75.8              1013.3   \n",
       "..         ...  ...         ...          ...                 ...   \n",
       "321       59.0  ...        15.9         38.1              1010.3   \n",
       "322       38.9  ...        16.0          0.9              1016.6   \n",
       "323       33.5  ...        16.0         55.1              1027.1   \n",
       "324       44.3  ...        10.9         97.6              1023.3   \n",
       "325        NaN  ...        14.4         92.5              1009.6   \n",
       "\n",
       "         Weather Type  Latitude  Longitude  Resolved Address           Name  \\\n",
       "0           Mist, Fog   38.8904    -77.032     United States  United States   \n",
       "1                Mist   38.8904    -77.032     United States  United States   \n",
       "2          Light Rain   38.8904    -77.032     United States  United States   \n",
       "3          Light Rain   38.8904    -77.032     United States  United States   \n",
       "4                 Fog   38.8904    -77.032     United States  United States   \n",
       "..                ...       ...        ...               ...            ...   \n",
       "321  Mist, Light Rain   38.8904    -77.032     United States  United States   \n",
       "322               NaN   38.8904    -77.032     United States  United States   \n",
       "323               NaN   38.8904    -77.032     United States  United States   \n",
       "324               NaN   38.8904    -77.032     United States  United States   \n",
       "325               NaN   38.8904    -77.032     United States  United States   \n",
       "\n",
       "    Info              Conditions  \n",
       "0    NaN  Rain, Partially cloudy  \n",
       "1    NaN                Overcast  \n",
       "2    NaN                Overcast  \n",
       "3    NaN                Overcast  \n",
       "4    NaN                Overcast  \n",
       "..   ...                     ...  \n",
       "321  NaN  Rain, Partially cloudy  \n",
       "322  NaN                   Clear  \n",
       "323  NaN        Partially cloudy  \n",
       "324  NaN          Rain, Overcast  \n",
       "325  NaN          Rain, Overcast  \n",
       "\n",
       "[326 rows x 25 columns]"
      ]
     },
     "execution_count": 17,
     "metadata": {},
     "output_type": "execute_result"
    }
   ],
   "source": [
    "data2"
   ]
  },
  {
   "cell_type": "markdown",
   "metadata": {},
   "source": [
    "## Date time"
   ]
  },
  {
   "cell_type": "code",
   "execution_count": 18,
   "metadata": {},
   "outputs": [
    {
     "data": {
      "text/plain": [
       "Date time\n",
       "01/01/2023    1\n",
       "07/24/2023    1\n",
       "08/11/2023    1\n",
       "08/10/2023    1\n",
       "08/09/2023    1\n",
       "             ..\n",
       "04/18/2023    1\n",
       "04/17/2023    1\n",
       "04/16/2023    1\n",
       "04/15/2023    1\n",
       "11/22/2023    1\n",
       "Name: count, Length: 326, dtype: int64"
      ]
     },
     "execution_count": 18,
     "metadata": {},
     "output_type": "execute_result"
    }
   ],
   "source": [
    "data2['Date time'].value_counts()"
   ]
  },
  {
   "cell_type": "markdown",
   "metadata": {},
   "source": [
    "## Minimum Temperature"
   ]
  },
  {
   "cell_type": "code",
   "execution_count": 19,
   "metadata": {},
   "outputs": [
    {
     "data": {
      "text/plain": [
       "Minimum Temperature\n",
       "22.7    7\n",
       "4.9     6\n",
       "4.8     5\n",
       "14.9    5\n",
       "14.7    4\n",
       "       ..\n",
       "13.4    1\n",
       "6.9     1\n",
       "5.1     1\n",
       "5.3     1\n",
       "4.0     1\n",
       "Name: count, Length: 185, dtype: int64"
      ]
     },
     "execution_count": 19,
     "metadata": {},
     "output_type": "execute_result"
    }
   ],
   "source": [
    "data2['Minimum Temperature'].value_counts()"
   ]
  },
  {
   "cell_type": "markdown",
   "metadata": {},
   "source": [
    "## Maximum Temperature"
   ]
  },
  {
   "cell_type": "code",
   "execution_count": 20,
   "metadata": {},
   "outputs": [
    {
     "data": {
      "text/plain": [
       "Maximum Temperature\n",
       "30.5    8\n",
       "27.0    7\n",
       "27.1    6\n",
       "16.0    6\n",
       "29.8    6\n",
       "       ..\n",
       "13.3    1\n",
       "6.1     1\n",
       "5.5     1\n",
       "8.7     1\n",
       "15.9    1\n",
       "Name: count, Length: 152, dtype: int64"
      ]
     },
     "execution_count": 20,
     "metadata": {},
     "output_type": "execute_result"
    }
   ],
   "source": [
    "data2['Maximum Temperature'].value_counts()"
   ]
  },
  {
   "cell_type": "markdown",
   "metadata": {},
   "source": [
    "## Temperature"
   ]
  },
  {
   "cell_type": "code",
   "execution_count": 21,
   "metadata": {},
   "outputs": [
    {
     "data": {
      "text/plain": [
       "Temperature\n",
       "13.5    6\n",
       "8.9     5\n",
       "20.4    4\n",
       "20.2    4\n",
       "25.6    4\n",
       "       ..\n",
       "19.4    1\n",
       "13.9    1\n",
       "20.0    1\n",
       "18.2    1\n",
       "14.4    1\n",
       "Name: count, Length: 193, dtype: int64"
      ]
     },
     "execution_count": 21,
     "metadata": {},
     "output_type": "execute_result"
    }
   ],
   "source": [
    "data2['Temperature'].value_counts()"
   ]
  },
  {
   "cell_type": "markdown",
   "metadata": {},
   "source": [
    "## Dew Point"
   ]
  },
  {
   "cell_type": "code",
   "execution_count": 22,
   "metadata": {},
   "outputs": [
    {
     "data": {
      "text/plain": [
       "Dew Point\n",
       " 15.5    5\n",
       " 11.0    5\n",
       " 20.7    5\n",
       " 16.4    4\n",
       " 9.4     4\n",
       "        ..\n",
       " 0.2     1\n",
       " 4.5     1\n",
       "-1.8     1\n",
       " 11.9    1\n",
       " 10.5    1\n",
       "Name: count, Length: 196, dtype: int64"
      ]
     },
     "execution_count": 22,
     "metadata": {},
     "output_type": "execute_result"
    }
   ],
   "source": [
    "data2['Dew Point'].value_counts()"
   ]
  },
  {
   "cell_type": "markdown",
   "metadata": {},
   "source": [
    "## Relative Humidity"
   ]
  },
  {
   "cell_type": "code",
   "execution_count": 23,
   "metadata": {},
   "outputs": [
    {
     "data": {
      "text/plain": [
       "Relative Humidity\n",
       "72.87    2\n",
       "63.03    2\n",
       "60.12    2\n",
       "60.59    2\n",
       "50.94    2\n",
       "        ..\n",
       "43.55    1\n",
       "35.72    1\n",
       "46.27    1\n",
       "74.09    1\n",
       "93.21    1\n",
       "Name: count, Length: 318, dtype: int64"
      ]
     },
     "execution_count": 23,
     "metadata": {},
     "output_type": "execute_result"
    }
   ],
   "source": [
    "data2['Relative Humidity'].value_counts()"
   ]
  },
  {
   "cell_type": "markdown",
   "metadata": {},
   "source": [
    "## Heat Index"
   ]
  },
  {
   "cell_type": "code",
   "execution_count": 24,
   "metadata": {},
   "outputs": [
    {
     "data": {
      "text/plain": [
       "Heat Index\n",
       "27.5    4\n",
       "36.9    3\n",
       "32.3    3\n",
       "32.6    3\n",
       "26.7    3\n",
       "       ..\n",
       "29.9    1\n",
       "31.7    1\n",
       "35.8    1\n",
       "40.3    1\n",
       "29.7    1\n",
       "Name: count, Length: 77, dtype: int64"
      ]
     },
     "execution_count": 24,
     "metadata": {},
     "output_type": "execute_result"
    }
   ],
   "source": [
    "data2['Heat Index'].value_counts()"
   ]
  },
  {
   "cell_type": "markdown",
   "metadata": {},
   "source": [
    "## Wind Speed"
   ]
  },
  {
   "cell_type": "code",
   "execution_count": 25,
   "metadata": {},
   "outputs": [
    {
     "data": {
      "text/plain": [
       "Wind Speed\n",
       "20.2    7\n",
       "20.0    6\n",
       "17.2    6\n",
       "21.6    5\n",
       "16.0    5\n",
       "       ..\n",
       "19.2    1\n",
       "30.2    1\n",
       "44.8    1\n",
       "35.9    1\n",
       "31.4    1\n",
       "Name: count, Length: 173, dtype: int64"
      ]
     },
     "execution_count": 25,
     "metadata": {},
     "output_type": "execute_result"
    }
   ],
   "source": [
    "data2['Wind Speed'].value_counts()"
   ]
  },
  {
   "cell_type": "markdown",
   "metadata": {},
   "source": [
    "## Wind Gust"
   ]
  },
  {
   "cell_type": "code",
   "execution_count": 26,
   "metadata": {},
   "outputs": [
    {
     "data": {
      "text/plain": [
       "Wind Gust\n",
       "29.5    15\n",
       "35.3    14\n",
       "33.5    12\n",
       "37.1    12\n",
       "31.7    11\n",
       "        ..\n",
       "45.6     1\n",
       "54.3     1\n",
       "46.9     1\n",
       "74.8     1\n",
       "44.3     1\n",
       "Name: count, Length: 100, dtype: int64"
      ]
     },
     "execution_count": 26,
     "metadata": {},
     "output_type": "execute_result"
    }
   ],
   "source": [
    "data2['Wind Gust'].value_counts()"
   ]
  },
  {
   "cell_type": "markdown",
   "metadata": {},
   "source": [
    "## Wind Direction"
   ]
  },
  {
   "cell_type": "code",
   "execution_count": 27,
   "metadata": {},
   "outputs": [
    {
     "data": {
      "text/plain": [
       "Wind Direction\n",
       "96.79     2\n",
       "310.33    2\n",
       "189.42    2\n",
       "188.96    2\n",
       "201.83    2\n",
       "         ..\n",
       "199.67    1\n",
       "109.33    1\n",
       "90.96     1\n",
       "165.54    1\n",
       "243.71    1\n",
       "Name: count, Length: 320, dtype: int64"
      ]
     },
     "execution_count": 27,
     "metadata": {},
     "output_type": "execute_result"
    }
   ],
   "source": [
    "data2['Wind Direction'].value_counts()"
   ]
  },
  {
   "cell_type": "markdown",
   "metadata": {},
   "source": [
    "## Wind Chill"
   ]
  },
  {
   "cell_type": "code",
   "execution_count": 28,
   "metadata": {},
   "outputs": [
    {
     "data": {
      "text/plain": [
       "Wind Chill\n",
       " 2.8    5\n",
       " 6.3    4\n",
       " 2.7    3\n",
       " 4.1    3\n",
       " 8.3    3\n",
       "       ..\n",
       "-5.1    1\n",
       "-1.3    1\n",
       "-0.1    1\n",
       "-8.3    1\n",
       " 4.4    1\n",
       "Name: count, Length: 85, dtype: int64"
      ]
     },
     "execution_count": 28,
     "metadata": {},
     "output_type": "execute_result"
    }
   ],
   "source": [
    "data2['Wind Chill'].value_counts()"
   ]
  },
  {
   "cell_type": "markdown",
   "metadata": {},
   "source": [
    "## Precipitation"
   ]
  },
  {
   "cell_type": "code",
   "execution_count": 29,
   "metadata": {},
   "outputs": [
    {
     "data": {
      "text/plain": [
       "Precipitation\n",
       "0.00     199\n",
       "0.02       8\n",
       "0.27       5\n",
       "1.09       4\n",
       "0.01       3\n",
       "        ... \n",
       "10.39      1\n",
       "9.05       1\n",
       "0.82       1\n",
       "6.49       1\n",
       "5.37       1\n",
       "Name: count, Length: 101, dtype: int64"
      ]
     },
     "execution_count": 29,
     "metadata": {},
     "output_type": "execute_result"
    }
   ],
   "source": [
    "data2['Precipitation'].value_counts()   "
   ]
  },
  {
   "cell_type": "markdown",
   "metadata": {},
   "source": [
    "## Precipitation Cover"
   ]
  },
  {
   "cell_type": "code",
   "execution_count": 30,
   "metadata": {},
   "outputs": [
    {
     "data": {
      "text/plain": [
       "Precipitation Cover\n",
       "0.00     199\n",
       "4.17      28\n",
       "8.33      22\n",
       "12.50     15\n",
       "20.83     12\n",
       "16.67     10\n",
       "25.00      8\n",
       "29.17      7\n",
       "33.33      5\n",
       "37.50      3\n",
       "75.00      2\n",
       "45.83      2\n",
       "62.50      2\n",
       "50.00      2\n",
       "17.39      1\n",
       "54.17      1\n",
       "83.33      1\n",
       "58.33      1\n",
       "70.83      1\n",
       "41.67      1\n",
       "95.83      1\n",
       "66.67      1\n",
       "42.86      1\n",
       "Name: count, dtype: int64"
      ]
     },
     "execution_count": 30,
     "metadata": {},
     "output_type": "execute_result"
    }
   ],
   "source": [
    "data2['Precipitation Cover'].value_counts()"
   ]
  },
  {
   "cell_type": "markdown",
   "metadata": {},
   "source": [
    "## Snow Depth"
   ]
  },
  {
   "cell_type": "code",
   "execution_count": 31,
   "metadata": {},
   "outputs": [
    {
     "data": {
      "text/plain": [
       "Snow Depth\n",
       "0.0    2\n",
       "Name: count, dtype: int64"
      ]
     },
     "execution_count": 31,
     "metadata": {},
     "output_type": "execute_result"
    }
   ],
   "source": [
    "data2['Snow Depth'].value_counts()"
   ]
  },
  {
   "cell_type": "markdown",
   "metadata": {},
   "source": [
    "## Visibility"
   ]
  },
  {
   "cell_type": "code",
   "execution_count": 32,
   "metadata": {},
   "outputs": [
    {
     "data": {
      "text/plain": [
       "Visibility\n",
       "16.0    159\n",
       "15.9     32\n",
       "15.7     18\n",
       "15.8     14\n",
       "15.6     11\n",
       "15.4      9\n",
       "15.5      8\n",
       "15.0      7\n",
       "14.9      5\n",
       "14.4      4\n",
       "13.2      4\n",
       "15.3      4\n",
       "15.1      3\n",
       "14.6      3\n",
       "15.2      3\n",
       "13.4      3\n",
       "14.3      2\n",
       "12.8      2\n",
       "14.7      2\n",
       "13.8      2\n",
       "12.7      2\n",
       "10.7      2\n",
       "11.1      2\n",
       "13.0      2\n",
       "14.2      2\n",
       "8.5       1\n",
       "12.9      1\n",
       "10.4      1\n",
       "6.0       1\n",
       "13.7      1\n",
       "8.8       1\n",
       "11.6      1\n",
       "11.5      1\n",
       "10.5      1\n",
       "7.4       1\n",
       "11.9      1\n",
       "13.3      1\n",
       "4.8       1\n",
       "8.9       1\n",
       "14.8      1\n",
       "13.5      1\n",
       "13.1      1\n",
       "14.0      1\n",
       "11.8      1\n",
       "13.9      1\n",
       "10.9      1\n",
       "Name: count, dtype: int64"
      ]
     },
     "execution_count": 32,
     "metadata": {},
     "output_type": "execute_result"
    }
   ],
   "source": [
    "data2['Visibility'].value_counts()"
   ]
  },
  {
   "cell_type": "markdown",
   "metadata": {},
   "source": [
    "## Cloud Cover"
   ]
  },
  {
   "cell_type": "code",
   "execution_count": 33,
   "metadata": {},
   "outputs": [
    {
     "data": {
      "text/plain": [
       "Cloud Cover\n",
       "77.5    4\n",
       "53.5    3\n",
       "64.6    3\n",
       "85.1    3\n",
       "75.8    3\n",
       "       ..\n",
       "82.8    1\n",
       "94.2    1\n",
       "77.9    1\n",
       "93.0    1\n",
       "92.5    1\n",
       "Name: count, Length: 263, dtype: int64"
      ]
     },
     "execution_count": 33,
     "metadata": {},
     "output_type": "execute_result"
    }
   ],
   "source": [
    "data2['Cloud Cover'].value_counts()"
   ]
  },
  {
   "cell_type": "markdown",
   "metadata": {},
   "source": [
    "## Sea Level Pressure"
   ]
  },
  {
   "cell_type": "code",
   "execution_count": 34,
   "metadata": {},
   "outputs": [
    {
     "data": {
      "text/plain": [
       "Sea Level Pressure\n",
       "1014.0    6\n",
       "1018.9    6\n",
       "1015.9    5\n",
       "1013.4    5\n",
       "1010.3    5\n",
       "         ..\n",
       "1009.0    1\n",
       "1031.5    1\n",
       "1031.6    1\n",
       "1028.7    1\n",
       "1009.6    1\n",
       "Name: count, Length: 176, dtype: int64"
      ]
     },
     "execution_count": 34,
     "metadata": {},
     "output_type": "execute_result"
    }
   ],
   "source": [
    "data2['Sea Level Pressure'].value_counts()"
   ]
  },
  {
   "cell_type": "markdown",
   "metadata": {},
   "source": [
    "## Weather Type"
   ]
  },
  {
   "cell_type": "code",
   "execution_count": 35,
   "metadata": {},
   "outputs": [
    {
     "data": {
      "text/plain": [
       "Weather Type\n",
       "Light Rain                                                                                    23\n",
       "Mist                                                                                          19\n",
       "Light Drizzle, Light Rain                                                                     16\n",
       "Mist, Light Drizzle, Rain, Heavy Rain, Light Rain                                             14\n",
       "Mist, Light Drizzle, Light Rain                                                               12\n",
       "Smoke Or Haze                                                                                 10\n",
       "Mist, Fog                                                                                      9\n",
       "Mist, Light Rain                                                                               8\n",
       "Mist, Smoke Or Haze                                                                            6\n",
       "Lightning Without Thunder, Mist, Light Drizzle, Thunderstorm, Rain, Heavy Rain, Light Rain     6\n",
       "Light Drizzle                                                                                  5\n",
       "Mist, Light Drizzle, Thunderstorm, Rain, Heavy Rain, Light Rain                                3\n",
       "Mist, Light Drizzle                                                                            3\n",
       "Lightning Without Thunder, Light Rain                                                          3\n",
       "Mist, Light Drizzle, Rain, Fog, Heavy Rain, Light Rain                                         3\n",
       "Light Drizzle, Rain, Heavy Rain, Light Rain                                                    3\n",
       "Fog                                                                                            3\n",
       "Lightning Without Thunder, Thunderstorm, Light Rain                                            3\n",
       "Mist, Thunderstorm, Light Rain                                                                 2\n",
       "Light Drizzle, Thunderstorm, Light Rain                                                        2\n",
       "Light Drizzle, Smoke Or Haze                                                                   2\n",
       "Lightning Without Thunder, Light Drizzle, Light Rain                                           2\n",
       "Lightning Without Thunder, Mist, Light Drizzle, Rain, Thunderstorm, Heavy Rain, Light Rain     2\n",
       "Light Rain, Smoke Or Haze                                                                      2\n",
       "Thunderstorm, Light Rain                                                                       2\n",
       "Drizzle, Mist, Heavy Drizzle, Light Drizzle, Rain, Heavy Rain, Light Rain                      2\n",
       "Mist, Rain, Heavy Rain, Light Rain                                                             2\n",
       "Lightning Without Thunder, Rain, Heavy Rain, Light Rain                                        1\n",
       "Lightning Without Thunder, Mist, Rain, Thunderstorm, Heavy Rain, Light Rain                    1\n",
       "Lightning Without Thunder, Light Drizzle, Thunderstorm, Rain, Light Rain                       1\n",
       "Lightning Without Thunder                                                                      1\n",
       "Ice, Light Snow, Light Drizzle, Light Rain                                                     1\n",
       "Rain, Thunderstorm, Heavy Rain, Light Rain                                                     1\n",
       "Thunderstorm, Rain, Fog, Heavy Rain                                                            1\n",
       "Thunderstorm, Rain, Heavy Rain                                                                 1\n",
       "Lightning Without Thunder, Squalls, Thunderstorm, Rain, Heavy Rain, Light Rain                 1\n",
       "Mist, Light Drizzle, Heavy Rain, Light Rain                                                    1\n",
       "Lightning Without Thunder, Light Drizzle, Thunderstorm, Light Rain, Smoke Or Haze              1\n",
       "Mist, Thunderstorm, Rain, Light Rain                                                           1\n",
       "Lightning Without Thunder, Light Drizzle, Thunderstorm, Light Rain                             1\n",
       "Mist, Light Drizzle, Fog, Light Rain                                                           1\n",
       "Mist, Light Rain, Smoke Or Haze                                                                1\n",
       "Lightning Without Thunder, Mist, Thunderstorm, Smoke Or Haze                                   1\n",
       "Lightning Without Thunder, Mist, Light Drizzle, Thunderstorm, Light Rain                       1\n",
       "Lightning Without Thunder, Mist, Light Drizzle, Thunderstorm, Light Rain, Smoke Or Haze        1\n",
       "Lightning Without Thunder, Mist, Rain, Thunderstorm, Heavy Rain, Light Rain, Smoke Or Haze     1\n",
       "Light Snow, Mist, Light Rain                                                                   1\n",
       "Ice, Mist, Rain, Heavy Rain, Light Rain                                                        1\n",
       "Light Snow, Light Drizzle                                                                      1\n",
       "Lightning Without Thunder, Mist, Light Drizzle, Rain, Heavy Rain, Light Rain                   1\n",
       "Mist, Light Drizzle, Rain, Light Rain                                                          1\n",
       "Rain, Heavy Rain, Light Rain                                                                   1\n",
       "Drizzle, Mist, Heavy Drizzle, Light Drizzle, Rain, Fog, Heavy Rain, Light Rain                 1\n",
       "Light Drizzle, Rain, Fog, Heavy Rain, Light Rain                                               1\n",
       "Name: count, dtype: int64"
      ]
     },
     "execution_count": 35,
     "metadata": {},
     "output_type": "execute_result"
    }
   ],
   "source": [
    "data2['Weather Type'].value_counts()"
   ]
  },
  {
   "cell_type": "markdown",
   "metadata": {},
   "source": [
    "## Latitude"
   ]
  },
  {
   "cell_type": "code",
   "execution_count": 36,
   "metadata": {},
   "outputs": [
    {
     "data": {
      "text/plain": [
       "Latitude\n",
       "38.8904    326\n",
       "Name: count, dtype: int64"
      ]
     },
     "execution_count": 36,
     "metadata": {},
     "output_type": "execute_result"
    }
   ],
   "source": [
    "data2['Latitude'].value_counts()"
   ]
  },
  {
   "cell_type": "markdown",
   "metadata": {},
   "source": [
    "## Longitude"
   ]
  },
  {
   "cell_type": "code",
   "execution_count": 37,
   "metadata": {},
   "outputs": [
    {
     "data": {
      "text/plain": [
       "Longitude\n",
       "-77.032    326\n",
       "Name: count, dtype: int64"
      ]
     },
     "execution_count": 37,
     "metadata": {},
     "output_type": "execute_result"
    }
   ],
   "source": [
    "data2['Longitude'].value_counts()"
   ]
  },
  {
   "cell_type": "markdown",
   "metadata": {},
   "source": [
    "## Resolved Address"
   ]
  },
  {
   "cell_type": "code",
   "execution_count": 38,
   "metadata": {},
   "outputs": [
    {
     "data": {
      "text/plain": [
       "Resolved Address\n",
       "United States    326\n",
       "Name: count, dtype: int64"
      ]
     },
     "execution_count": 38,
     "metadata": {},
     "output_type": "execute_result"
    }
   ],
   "source": [
    "data2['Resolved Address'].value_counts()"
   ]
  },
  {
   "cell_type": "markdown",
   "metadata": {},
   "source": [
    "## Name"
   ]
  },
  {
   "cell_type": "code",
   "execution_count": 39,
   "metadata": {},
   "outputs": [
    {
     "data": {
      "text/plain": [
       "Name\n",
       "United States    326\n",
       "Name: count, dtype: int64"
      ]
     },
     "execution_count": 39,
     "metadata": {},
     "output_type": "execute_result"
    }
   ],
   "source": [
    "data2['Name'].value_counts()    "
   ]
  },
  {
   "cell_type": "markdown",
   "metadata": {},
   "source": [
    "## Info"
   ]
  },
  {
   "cell_type": "code",
   "execution_count": 40,
   "metadata": {},
   "outputs": [
    {
     "data": {
      "text/plain": [
       "Series([], Name: count, dtype: int64)"
      ]
     },
     "execution_count": 40,
     "metadata": {},
     "output_type": "execute_result"
    }
   ],
   "source": [
    "data2['Info'].value_counts()"
   ]
  },
  {
   "cell_type": "markdown",
   "metadata": {},
   "source": [
    "## Conditions"
   ]
  },
  {
   "cell_type": "code",
   "execution_count": 41,
   "metadata": {},
   "outputs": [
    {
     "data": {
      "text/plain": [
       "Conditions\n",
       "Partially cloudy          128\n",
       "Rain, Overcast             88\n",
       "Overcast                   41\n",
       "Rain, Partially cloudy     39\n",
       "Clear                      30\n",
       "Name: count, dtype: int64"
      ]
     },
     "execution_count": 41,
     "metadata": {},
     "output_type": "execute_result"
    }
   ],
   "source": [
    "data2['Conditions'].value_counts()"
   ]
  },
  {
   "cell_type": "markdown",
   "metadata": {},
   "source": [
    "# **Feature Engineering on Second Data**"
   ]
  },
  {
   "cell_type": "code",
   "execution_count": 42,
   "metadata": {},
   "outputs": [
    {
     "name": "stdout",
     "output_type": "stream",
     "text": [
      "<class 'pandas.core.frame.DataFrame'>\n",
      "RangeIndex: 326 entries, 0 to 325\n",
      "Data columns (total 25 columns):\n",
      " #   Column               Non-Null Count  Dtype  \n",
      "---  ------               --------------  -----  \n",
      " 0   Address              326 non-null    object \n",
      " 1   Date time            326 non-null    object \n",
      " 2   Minimum Temperature  326 non-null    float64\n",
      " 3   Maximum Temperature  326 non-null    float64\n",
      " 4   Temperature          326 non-null    float64\n",
      " 5   Dew Point            326 non-null    float64\n",
      " 6   Relative Humidity    326 non-null    float64\n",
      " 7   Heat Index           115 non-null    float64\n",
      " 8   Wind Speed           326 non-null    float64\n",
      " 9   Wind Gust            218 non-null    float64\n",
      " 10  Wind Direction       326 non-null    float64\n",
      " 11  Wind Chill           135 non-null    float64\n",
      " 12  Precipitation        326 non-null    float64\n",
      " 13  Precipitation Cover  326 non-null    float64\n",
      " 14  Snow Depth           2 non-null      float64\n",
      " 15  Visibility           326 non-null    float64\n",
      " 16  Cloud Cover          326 non-null    float64\n",
      " 17  Sea Level Pressure   326 non-null    float64\n",
      " 18  Weather Type         194 non-null    object \n",
      " 19  Latitude             326 non-null    float64\n",
      " 20  Longitude            326 non-null    float64\n",
      " 21  Resolved Address     326 non-null    object \n",
      " 22  Name                 326 non-null    object \n",
      " 23  Info                 0 non-null      float64\n",
      " 24  Conditions           326 non-null    object \n",
      "dtypes: float64(19), object(6)\n",
      "memory usage: 63.8+ KB\n"
     ]
    }
   ],
   "source": [
    "data2.info()"
   ]
  },
  {
   "cell_type": "markdown",
   "metadata": {},
   "source": [
    "## 'Date time' to datetime"
   ]
  },
  {
   "cell_type": "code",
   "execution_count": 43,
   "metadata": {},
   "outputs": [],
   "source": [
    "data2['Date time'] = pd.to_datetime(data2['Date time'], format='%m/%d/%Y') "
   ]
  },
  {
   "cell_type": "code",
   "execution_count": 44,
   "metadata": {},
   "outputs": [],
   "source": [
    "data2['Date time'] = pd.to_datetime(data2['Date time'])"
   ]
  },
  {
   "cell_type": "code",
   "execution_count": 45,
   "metadata": {},
   "outputs": [
    {
     "data": {
      "text/plain": [
       "0     2023-01-01\n",
       "1     2023-01-02\n",
       "2     2023-01-03\n",
       "3     2023-01-04\n",
       "4     2023-01-05\n",
       "         ...    \n",
       "321   2023-11-18\n",
       "322   2023-11-19\n",
       "323   2023-11-20\n",
       "324   2023-11-21\n",
       "325   2023-11-22\n",
       "Name: Date time, Length: 326, dtype: datetime64[ns]"
      ]
     },
     "execution_count": 45,
     "metadata": {},
     "output_type": "execute_result"
    }
   ],
   "source": [
    "data2['Date time']"
   ]
  },
  {
   "cell_type": "markdown",
   "metadata": {},
   "source": [
    "## Drop Address"
   ]
  },
  {
   "cell_type": "code",
   "execution_count": 46,
   "metadata": {},
   "outputs": [],
   "source": [
    "data2 = data2.drop(['Address'], axis = 1)"
   ]
  },
  {
   "cell_type": "markdown",
   "metadata": {},
   "source": [
    "## Drop Minimum Temperature and Maximum Temperature"
   ]
  },
  {
   "cell_type": "code",
   "execution_count": 47,
   "metadata": {},
   "outputs": [],
   "source": [
    "# drop Minimum Temperature and Maximum Temperature from data2\n",
    "\n",
    "data2 = data2.drop(['Minimum Temperature', 'Maximum Temperature'], axis=1)"
   ]
  },
  {
   "cell_type": "markdown",
   "metadata": {},
   "source": [
    "## Drop Latitude, Longitude, Resolved Address, Name, Info"
   ]
  },
  {
   "cell_type": "code",
   "execution_count": 48,
   "metadata": {},
   "outputs": [],
   "source": [
    "# drop Latitude, Longitude, Resolved Address, Name, Info from data2\n",
    "\n",
    "data2 = data2.drop(['Latitude', 'Longitude', 'Resolved Address', 'Name', 'Info'], axis=1)"
   ]
  },
  {
   "cell_type": "markdown",
   "metadata": {},
   "source": [
    "## Drop Snow Depth"
   ]
  },
  {
   "cell_type": "code",
   "execution_count": 49,
   "metadata": {},
   "outputs": [],
   "source": [
    "data2 = data2.drop(['Snow Depth'], axis = 1)"
   ]
  },
  {
   "cell_type": "markdown",
   "metadata": {},
   "source": [
    "## Drop Visibility"
   ]
  },
  {
   "cell_type": "code",
   "execution_count": 50,
   "metadata": {},
   "outputs": [],
   "source": [
    "data2 = data2.drop(['Visibility'], axis = 1)"
   ]
  },
  {
   "cell_type": "markdown",
   "metadata": {},
   "source": [
    "## Drop Sea Level Pressure"
   ]
  },
  {
   "cell_type": "code",
   "execution_count": 51,
   "metadata": {},
   "outputs": [],
   "source": [
    "data2 = data2.drop(['Sea Level Pressure'], axis = 1)"
   ]
  },
  {
   "cell_type": "markdown",
   "metadata": {},
   "source": [
    "## Drop Weather Type"
   ]
  },
  {
   "cell_type": "code",
   "execution_count": 52,
   "metadata": {},
   "outputs": [],
   "source": [
    "data2 = data2.drop(['Weather Type'], axis = 1)"
   ]
  },
  {
   "cell_type": "markdown",
   "metadata": {},
   "source": [
    "## Drop Wind Gust, Direction, Chill"
   ]
  },
  {
   "cell_type": "code",
   "execution_count": 53,
   "metadata": {},
   "outputs": [],
   "source": [
    "# drop Wind Gust, Wind Chill, Wind Direction from data2\n",
    "\n",
    "data2 = data2.drop(['Wind Gust', 'Wind Chill', 'Wind Direction'], axis=1)"
   ]
  },
  {
   "cell_type": "markdown",
   "metadata": {},
   "source": [
    "## Drop Heat Index"
   ]
  },
  {
   "cell_type": "code",
   "execution_count": 54,
   "metadata": {},
   "outputs": [],
   "source": [
    "data2 = data2.drop(['Heat Index'], axis = 1)   "
   ]
  },
  {
   "cell_type": "markdown",
   "metadata": {},
   "source": [
    "## Drop Precipitation Cover"
   ]
  },
  {
   "cell_type": "code",
   "execution_count": 55,
   "metadata": {},
   "outputs": [],
   "source": [
    "data2 = data2.drop(['Precipitation Cover'], axis = 1)"
   ]
  },
  {
   "cell_type": "markdown",
   "metadata": {},
   "source": [
    "## After Drop(s)"
   ]
  },
  {
   "cell_type": "code",
   "execution_count": 56,
   "metadata": {},
   "outputs": [
    {
     "name": "stdout",
     "output_type": "stream",
     "text": [
      "<class 'pandas.core.frame.DataFrame'>\n",
      "RangeIndex: 326 entries, 0 to 325\n",
      "Data columns (total 8 columns):\n",
      " #   Column             Non-Null Count  Dtype         \n",
      "---  ------             --------------  -----         \n",
      " 0   Date time          326 non-null    datetime64[ns]\n",
      " 1   Temperature        326 non-null    float64       \n",
      " 2   Dew Point          326 non-null    float64       \n",
      " 3   Relative Humidity  326 non-null    float64       \n",
      " 4   Wind Speed         326 non-null    float64       \n",
      " 5   Precipitation      326 non-null    float64       \n",
      " 6   Cloud Cover        326 non-null    float64       \n",
      " 7   Conditions         326 non-null    object        \n",
      "dtypes: datetime64[ns](1), float64(6), object(1)\n",
      "memory usage: 20.5+ KB\n"
     ]
    }
   ],
   "source": [
    "data2.info()"
   ]
  },
  {
   "cell_type": "markdown",
   "metadata": {},
   "source": [
    "# **Overlook into First and Second Data**"
   ]
  },
  {
   "cell_type": "code",
   "execution_count": 57,
   "metadata": {},
   "outputs": [
    {
     "data": {
      "text/html": [
       "<div>\n",
       "<style scoped>\n",
       "    .dataframe tbody tr th:only-of-type {\n",
       "        vertical-align: middle;\n",
       "    }\n",
       "\n",
       "    .dataframe tbody tr th {\n",
       "        vertical-align: top;\n",
       "    }\n",
       "\n",
       "    .dataframe thead th {\n",
       "        text-align: right;\n",
       "    }\n",
       "</style>\n",
       "<table border=\"1\" class=\"dataframe\">\n",
       "  <thead>\n",
       "    <tr style=\"text-align: right;\">\n",
       "      <th></th>\n",
       "      <th>date</th>\n",
       "      <th>value</th>\n",
       "    </tr>\n",
       "  </thead>\n",
       "  <tbody>\n",
       "    <tr>\n",
       "      <th>0</th>\n",
       "      <td>2023-01-01</td>\n",
       "      <td>182.636276723332</td>\n",
       "    </tr>\n",
       "    <tr>\n",
       "      <th>1</th>\n",
       "      <td>2023-02-01</td>\n",
       "      <td>174.561285576855</td>\n",
       "    </tr>\n",
       "    <tr>\n",
       "      <th>2</th>\n",
       "      <td>2023-03-01</td>\n",
       "      <td>168.300258877164</td>\n",
       "    </tr>\n",
       "    <tr>\n",
       "      <th>3</th>\n",
       "      <td>2023-04-01</td>\n",
       "      <td>170.764655371124</td>\n",
       "    </tr>\n",
       "    <tr>\n",
       "      <th>4</th>\n",
       "      <td>2023-05-01</td>\n",
       "      <td>157.134011971114</td>\n",
       "    </tr>\n",
       "    <tr>\n",
       "      <th>5</th>\n",
       "      <td>2023-06-01</td>\n",
       "      <td>154.069169324197</td>\n",
       "    </tr>\n",
       "    <tr>\n",
       "      <th>6</th>\n",
       "      <td>2023-07-01</td>\n",
       "      <td>157.908976461302</td>\n",
       "    </tr>\n",
       "    <tr>\n",
       "      <th>7</th>\n",
       "      <td>2023-08-01</td>\n",
       "      <td>161.30619330389</td>\n",
       "    </tr>\n",
       "    <tr>\n",
       "      <th>8</th>\n",
       "      <td>2023-09-01</td>\n",
       "      <td>168.657488561668</td>\n",
       "    </tr>\n",
       "    <tr>\n",
       "      <th>9</th>\n",
       "      <td>2023-10-01</td>\n",
       "      <td>167.77064363426</td>\n",
       "    </tr>\n",
       "  </tbody>\n",
       "</table>\n",
       "</div>"
      ],
      "text/plain": [
       "        date             value\n",
       "0 2023-01-01  182.636276723332\n",
       "1 2023-02-01  174.561285576855\n",
       "2 2023-03-01  168.300258877164\n",
       "3 2023-04-01  170.764655371124\n",
       "4 2023-05-01  157.134011971114\n",
       "5 2023-06-01  154.069169324197\n",
       "6 2023-07-01  157.908976461302\n",
       "7 2023-08-01   161.30619330389\n",
       "8 2023-09-01  168.657488561668\n",
       "9 2023-10-01   167.77064363426"
      ]
     },
     "execution_count": 57,
     "metadata": {},
     "output_type": "execute_result"
    }
   ],
   "source": [
    "data1"
   ]
  },
  {
   "cell_type": "code",
   "execution_count": 58,
   "metadata": {},
   "outputs": [
    {
     "data": {
      "text/html": [
       "<div>\n",
       "<style scoped>\n",
       "    .dataframe tbody tr th:only-of-type {\n",
       "        vertical-align: middle;\n",
       "    }\n",
       "\n",
       "    .dataframe tbody tr th {\n",
       "        vertical-align: top;\n",
       "    }\n",
       "\n",
       "    .dataframe thead th {\n",
       "        text-align: right;\n",
       "    }\n",
       "</style>\n",
       "<table border=\"1\" class=\"dataframe\">\n",
       "  <thead>\n",
       "    <tr style=\"text-align: right;\">\n",
       "      <th></th>\n",
       "      <th>Date time</th>\n",
       "      <th>Temperature</th>\n",
       "      <th>Dew Point</th>\n",
       "      <th>Relative Humidity</th>\n",
       "      <th>Wind Speed</th>\n",
       "      <th>Precipitation</th>\n",
       "      <th>Cloud Cover</th>\n",
       "      <th>Conditions</th>\n",
       "    </tr>\n",
       "  </thead>\n",
       "  <tbody>\n",
       "    <tr>\n",
       "      <th>0</th>\n",
       "      <td>2023-01-01</td>\n",
       "      <td>11.0</td>\n",
       "      <td>7.9</td>\n",
       "      <td>82.24</td>\n",
       "      <td>14.2</td>\n",
       "      <td>0.10</td>\n",
       "      <td>47.7</td>\n",
       "      <td>Rain, Partially cloudy</td>\n",
       "    </tr>\n",
       "    <tr>\n",
       "      <th>1</th>\n",
       "      <td>2023-01-02</td>\n",
       "      <td>10.5</td>\n",
       "      <td>6.8</td>\n",
       "      <td>79.25</td>\n",
       "      <td>14.7</td>\n",
       "      <td>0.00</td>\n",
       "      <td>87.8</td>\n",
       "      <td>Overcast</td>\n",
       "    </tr>\n",
       "    <tr>\n",
       "      <th>2</th>\n",
       "      <td>2023-01-03</td>\n",
       "      <td>15.1</td>\n",
       "      <td>11.3</td>\n",
       "      <td>78.49</td>\n",
       "      <td>28.5</td>\n",
       "      <td>0.00</td>\n",
       "      <td>90.7</td>\n",
       "      <td>Overcast</td>\n",
       "    </tr>\n",
       "    <tr>\n",
       "      <th>3</th>\n",
       "      <td>2023-01-04</td>\n",
       "      <td>15.3</td>\n",
       "      <td>12.8</td>\n",
       "      <td>85.43</td>\n",
       "      <td>22.8</td>\n",
       "      <td>0.00</td>\n",
       "      <td>85.1</td>\n",
       "      <td>Overcast</td>\n",
       "    </tr>\n",
       "    <tr>\n",
       "      <th>4</th>\n",
       "      <td>2023-01-05</td>\n",
       "      <td>13.5</td>\n",
       "      <td>7.8</td>\n",
       "      <td>70.43</td>\n",
       "      <td>20.2</td>\n",
       "      <td>0.00</td>\n",
       "      <td>75.8</td>\n",
       "      <td>Overcast</td>\n",
       "    </tr>\n",
       "    <tr>\n",
       "      <th>...</th>\n",
       "      <td>...</td>\n",
       "      <td>...</td>\n",
       "      <td>...</td>\n",
       "      <td>...</td>\n",
       "      <td>...</td>\n",
       "      <td>...</td>\n",
       "      <td>...</td>\n",
       "      <td>...</td>\n",
       "    </tr>\n",
       "    <tr>\n",
       "      <th>321</th>\n",
       "      <td>2023-11-18</td>\n",
       "      <td>12.8</td>\n",
       "      <td>4.9</td>\n",
       "      <td>62.37</td>\n",
       "      <td>31.4</td>\n",
       "      <td>0.47</td>\n",
       "      <td>38.1</td>\n",
       "      <td>Rain, Partially cloudy</td>\n",
       "    </tr>\n",
       "    <tr>\n",
       "      <th>322</th>\n",
       "      <td>2023-11-19</td>\n",
       "      <td>9.7</td>\n",
       "      <td>-1.9</td>\n",
       "      <td>46.61</td>\n",
       "      <td>20.0</td>\n",
       "      <td>0.00</td>\n",
       "      <td>0.9</td>\n",
       "      <td>Clear</td>\n",
       "    </tr>\n",
       "    <tr>\n",
       "      <th>323</th>\n",
       "      <td>2023-11-20</td>\n",
       "      <td>7.1</td>\n",
       "      <td>-1.5</td>\n",
       "      <td>55.23</td>\n",
       "      <td>17.2</td>\n",
       "      <td>0.00</td>\n",
       "      <td>55.1</td>\n",
       "      <td>Partially cloudy</td>\n",
       "    </tr>\n",
       "    <tr>\n",
       "      <th>324</th>\n",
       "      <td>2023-11-21</td>\n",
       "      <td>8.9</td>\n",
       "      <td>5.6</td>\n",
       "      <td>80.39</td>\n",
       "      <td>25.9</td>\n",
       "      <td>42.05</td>\n",
       "      <td>97.6</td>\n",
       "      <td>Rain, Overcast</td>\n",
       "    </tr>\n",
       "    <tr>\n",
       "      <th>325</th>\n",
       "      <td>2023-11-22</td>\n",
       "      <td>11.6</td>\n",
       "      <td>10.5</td>\n",
       "      <td>93.21</td>\n",
       "      <td>16.3</td>\n",
       "      <td>5.37</td>\n",
       "      <td>92.5</td>\n",
       "      <td>Rain, Overcast</td>\n",
       "    </tr>\n",
       "  </tbody>\n",
       "</table>\n",
       "<p>326 rows × 8 columns</p>\n",
       "</div>"
      ],
      "text/plain": [
       "     Date time  Temperature  Dew Point  Relative Humidity  Wind Speed  \\\n",
       "0   2023-01-01         11.0        7.9              82.24        14.2   \n",
       "1   2023-01-02         10.5        6.8              79.25        14.7   \n",
       "2   2023-01-03         15.1       11.3              78.49        28.5   \n",
       "3   2023-01-04         15.3       12.8              85.43        22.8   \n",
       "4   2023-01-05         13.5        7.8              70.43        20.2   \n",
       "..         ...          ...        ...                ...         ...   \n",
       "321 2023-11-18         12.8        4.9              62.37        31.4   \n",
       "322 2023-11-19          9.7       -1.9              46.61        20.0   \n",
       "323 2023-11-20          7.1       -1.5              55.23        17.2   \n",
       "324 2023-11-21          8.9        5.6              80.39        25.9   \n",
       "325 2023-11-22         11.6       10.5              93.21        16.3   \n",
       "\n",
       "     Precipitation  Cloud Cover              Conditions  \n",
       "0             0.10         47.7  Rain, Partially cloudy  \n",
       "1             0.00         87.8                Overcast  \n",
       "2             0.00         90.7                Overcast  \n",
       "3             0.00         85.1                Overcast  \n",
       "4             0.00         75.8                Overcast  \n",
       "..             ...          ...                     ...  \n",
       "321           0.47         38.1  Rain, Partially cloudy  \n",
       "322           0.00          0.9                   Clear  \n",
       "323           0.00         55.1        Partially cloudy  \n",
       "324          42.05         97.6          Rain, Overcast  \n",
       "325           5.37         92.5          Rain, Overcast  \n",
       "\n",
       "[326 rows x 8 columns]"
      ]
     },
     "execution_count": 58,
     "metadata": {},
     "output_type": "execute_result"
    }
   ],
   "source": [
    "data2"
   ]
  },
  {
   "cell_type": "markdown",
   "metadata": {},
   "source": [
    "# **To CSV**\n",
    "sekadar buat simpan data yang udah di-transform supaya tidak perlu run ulang kode dari awal"
   ]
  },
  {
   "cell_type": "code",
   "execution_count": null,
   "metadata": {},
   "outputs": [],
   "source": [
    "data1.to_csv('commodities_new.csv', index=False)"
   ]
  },
  {
   "cell_type": "code",
   "execution_count": 59,
   "metadata": {},
   "outputs": [],
   "source": [
    "data2.to_csv('weather_new.csv', index=False)"
   ]
  },
  {
   "cell_type": "markdown",
   "metadata": {},
   "source": [
    "# **Merge the Datas**"
   ]
  },
  {
   "cell_type": "code",
   "execution_count": 60,
   "metadata": {},
   "outputs": [],
   "source": [
    "df1 = pd.read_csv('commodities_new.csv')\n",
    "df2 = pd.read_csv('weather_new.csv')  "
   ]
  },
  {
   "cell_type": "code",
   "execution_count": 61,
   "metadata": {},
   "outputs": [],
   "source": [
    "df1['date'] = pd.to_datetime(df1['date'])"
   ]
  },
  {
   "cell_type": "code",
   "execution_count": 62,
   "metadata": {},
   "outputs": [],
   "source": [
    "df2['Date time'] = pd.to_datetime(df2['Date time'])"
   ]
  },
  {
   "cell_type": "code",
   "execution_count": 63,
   "metadata": {},
   "outputs": [
    {
     "data": {
      "text/html": [
       "<div>\n",
       "<style scoped>\n",
       "    .dataframe tbody tr th:only-of-type {\n",
       "        vertical-align: middle;\n",
       "    }\n",
       "\n",
       "    .dataframe tbody tr th {\n",
       "        vertical-align: top;\n",
       "    }\n",
       "\n",
       "    .dataframe thead th {\n",
       "        text-align: right;\n",
       "    }\n",
       "</style>\n",
       "<table border=\"1\" class=\"dataframe\">\n",
       "  <thead>\n",
       "    <tr style=\"text-align: right;\">\n",
       "      <th></th>\n",
       "      <th>key_0</th>\n",
       "      <th>date</th>\n",
       "      <th>value</th>\n",
       "      <th>Date time</th>\n",
       "      <th>Temperature</th>\n",
       "      <th>Dew Point</th>\n",
       "      <th>Relative Humidity</th>\n",
       "      <th>Wind Speed</th>\n",
       "      <th>Precipitation</th>\n",
       "      <th>Cloud Cover</th>\n",
       "      <th>Conditions</th>\n",
       "    </tr>\n",
       "  </thead>\n",
       "  <tbody>\n",
       "    <tr>\n",
       "      <th>0</th>\n",
       "      <td>1</td>\n",
       "      <td>2023-01-01</td>\n",
       "      <td>182.636277</td>\n",
       "      <td>2023-01-01</td>\n",
       "      <td>11.0</td>\n",
       "      <td>7.9</td>\n",
       "      <td>82.24</td>\n",
       "      <td>14.2</td>\n",
       "      <td>0.10</td>\n",
       "      <td>47.7</td>\n",
       "      <td>Rain, Partially cloudy</td>\n",
       "    </tr>\n",
       "    <tr>\n",
       "      <th>1</th>\n",
       "      <td>1</td>\n",
       "      <td>2023-01-01</td>\n",
       "      <td>182.636277</td>\n",
       "      <td>2023-01-02</td>\n",
       "      <td>10.5</td>\n",
       "      <td>6.8</td>\n",
       "      <td>79.25</td>\n",
       "      <td>14.7</td>\n",
       "      <td>0.00</td>\n",
       "      <td>87.8</td>\n",
       "      <td>Overcast</td>\n",
       "    </tr>\n",
       "    <tr>\n",
       "      <th>2</th>\n",
       "      <td>1</td>\n",
       "      <td>2023-01-01</td>\n",
       "      <td>182.636277</td>\n",
       "      <td>2023-01-03</td>\n",
       "      <td>15.1</td>\n",
       "      <td>11.3</td>\n",
       "      <td>78.49</td>\n",
       "      <td>28.5</td>\n",
       "      <td>0.00</td>\n",
       "      <td>90.7</td>\n",
       "      <td>Overcast</td>\n",
       "    </tr>\n",
       "    <tr>\n",
       "      <th>3</th>\n",
       "      <td>1</td>\n",
       "      <td>2023-01-01</td>\n",
       "      <td>182.636277</td>\n",
       "      <td>2023-01-04</td>\n",
       "      <td>15.3</td>\n",
       "      <td>12.8</td>\n",
       "      <td>85.43</td>\n",
       "      <td>22.8</td>\n",
       "      <td>0.00</td>\n",
       "      <td>85.1</td>\n",
       "      <td>Overcast</td>\n",
       "    </tr>\n",
       "    <tr>\n",
       "      <th>4</th>\n",
       "      <td>1</td>\n",
       "      <td>2023-01-01</td>\n",
       "      <td>182.636277</td>\n",
       "      <td>2023-01-05</td>\n",
       "      <td>13.5</td>\n",
       "      <td>7.8</td>\n",
       "      <td>70.43</td>\n",
       "      <td>20.2</td>\n",
       "      <td>0.00</td>\n",
       "      <td>75.8</td>\n",
       "      <td>Overcast</td>\n",
       "    </tr>\n",
       "    <tr>\n",
       "      <th>...</th>\n",
       "      <td>...</td>\n",
       "      <td>...</td>\n",
       "      <td>...</td>\n",
       "      <td>...</td>\n",
       "      <td>...</td>\n",
       "      <td>...</td>\n",
       "      <td>...</td>\n",
       "      <td>...</td>\n",
       "      <td>...</td>\n",
       "      <td>...</td>\n",
       "      <td>...</td>\n",
       "    </tr>\n",
       "    <tr>\n",
       "      <th>299</th>\n",
       "      <td>10</td>\n",
       "      <td>2023-10-01</td>\n",
       "      <td>167.770644</td>\n",
       "      <td>2023-10-27</td>\n",
       "      <td>20.3</td>\n",
       "      <td>14.8</td>\n",
       "      <td>72.70</td>\n",
       "      <td>15.7</td>\n",
       "      <td>0.00</td>\n",
       "      <td>66.5</td>\n",
       "      <td>Partially cloudy</td>\n",
       "    </tr>\n",
       "    <tr>\n",
       "      <th>300</th>\n",
       "      <td>10</td>\n",
       "      <td>2023-10-01</td>\n",
       "      <td>167.770644</td>\n",
       "      <td>2023-10-28</td>\n",
       "      <td>21.7</td>\n",
       "      <td>15.5</td>\n",
       "      <td>70.61</td>\n",
       "      <td>16.2</td>\n",
       "      <td>0.00</td>\n",
       "      <td>50.1</td>\n",
       "      <td>Partially cloudy</td>\n",
       "    </tr>\n",
       "    <tr>\n",
       "      <th>301</th>\n",
       "      <td>10</td>\n",
       "      <td>2023-10-01</td>\n",
       "      <td>167.770644</td>\n",
       "      <td>2023-10-29</td>\n",
       "      <td>20.7</td>\n",
       "      <td>16.5</td>\n",
       "      <td>77.37</td>\n",
       "      <td>17.2</td>\n",
       "      <td>0.99</td>\n",
       "      <td>90.2</td>\n",
       "      <td>Rain, Overcast</td>\n",
       "    </tr>\n",
       "    <tr>\n",
       "      <th>302</th>\n",
       "      <td>10</td>\n",
       "      <td>2023-10-01</td>\n",
       "      <td>167.770644</td>\n",
       "      <td>2023-10-30</td>\n",
       "      <td>17.1</td>\n",
       "      <td>12.7</td>\n",
       "      <td>75.93</td>\n",
       "      <td>36.5</td>\n",
       "      <td>0.89</td>\n",
       "      <td>79.8</td>\n",
       "      <td>Rain, Overcast</td>\n",
       "    </tr>\n",
       "    <tr>\n",
       "      <th>303</th>\n",
       "      <td>10</td>\n",
       "      <td>2023-10-01</td>\n",
       "      <td>167.770644</td>\n",
       "      <td>2023-10-31</td>\n",
       "      <td>10.3</td>\n",
       "      <td>0.4</td>\n",
       "      <td>50.86</td>\n",
       "      <td>24.7</td>\n",
       "      <td>0.02</td>\n",
       "      <td>79.2</td>\n",
       "      <td>Rain, Overcast</td>\n",
       "    </tr>\n",
       "  </tbody>\n",
       "</table>\n",
       "<p>304 rows × 11 columns</p>\n",
       "</div>"
      ],
      "text/plain": [
       "     key_0       date       value  Date time  Temperature  Dew Point  \\\n",
       "0        1 2023-01-01  182.636277 2023-01-01         11.0        7.9   \n",
       "1        1 2023-01-01  182.636277 2023-01-02         10.5        6.8   \n",
       "2        1 2023-01-01  182.636277 2023-01-03         15.1       11.3   \n",
       "3        1 2023-01-01  182.636277 2023-01-04         15.3       12.8   \n",
       "4        1 2023-01-01  182.636277 2023-01-05         13.5        7.8   \n",
       "..     ...        ...         ...        ...          ...        ...   \n",
       "299     10 2023-10-01  167.770644 2023-10-27         20.3       14.8   \n",
       "300     10 2023-10-01  167.770644 2023-10-28         21.7       15.5   \n",
       "301     10 2023-10-01  167.770644 2023-10-29         20.7       16.5   \n",
       "302     10 2023-10-01  167.770644 2023-10-30         17.1       12.7   \n",
       "303     10 2023-10-01  167.770644 2023-10-31         10.3        0.4   \n",
       "\n",
       "     Relative Humidity  Wind Speed  Precipitation  Cloud Cover  \\\n",
       "0                82.24        14.2           0.10         47.7   \n",
       "1                79.25        14.7           0.00         87.8   \n",
       "2                78.49        28.5           0.00         90.7   \n",
       "3                85.43        22.8           0.00         85.1   \n",
       "4                70.43        20.2           0.00         75.8   \n",
       "..                 ...         ...            ...          ...   \n",
       "299              72.70        15.7           0.00         66.5   \n",
       "300              70.61        16.2           0.00         50.1   \n",
       "301              77.37        17.2           0.99         90.2   \n",
       "302              75.93        36.5           0.89         79.8   \n",
       "303              50.86        24.7           0.02         79.2   \n",
       "\n",
       "                 Conditions  \n",
       "0    Rain, Partially cloudy  \n",
       "1                  Overcast  \n",
       "2                  Overcast  \n",
       "3                  Overcast  \n",
       "4                  Overcast  \n",
       "..                      ...  \n",
       "299        Partially cloudy  \n",
       "300        Partially cloudy  \n",
       "301          Rain, Overcast  \n",
       "302          Rain, Overcast  \n",
       "303          Rain, Overcast  \n",
       "\n",
       "[304 rows x 11 columns]"
      ]
     },
     "execution_count": 63,
     "metadata": {},
     "output_type": "execute_result"
    }
   ],
   "source": [
    "# merge data1 and data2 on the same month\n",
    "\n",
    "df = pd.merge(df1, df2, left_on=df1['date'].dt.month, right_on=df2['Date time'].dt.month)\n",
    "df"
   ]
  },
  {
   "cell_type": "code",
   "execution_count": 64,
   "metadata": {},
   "outputs": [],
   "source": [
    "df = df.drop(['key_0', 'date'], axis = 1)\n",
    "\n",
    "# Pindahkan kolom 'value' ke paling kanan\n",
    "col_value = df.pop('value')\n",
    "df.insert(len(df.columns), 'value', col_value)"
   ]
  },
  {
   "cell_type": "code",
   "execution_count": 65,
   "metadata": {},
   "outputs": [
    {
     "data": {
      "text/html": [
       "<div>\n",
       "<style scoped>\n",
       "    .dataframe tbody tr th:only-of-type {\n",
       "        vertical-align: middle;\n",
       "    }\n",
       "\n",
       "    .dataframe tbody tr th {\n",
       "        vertical-align: top;\n",
       "    }\n",
       "\n",
       "    .dataframe thead th {\n",
       "        text-align: right;\n",
       "    }\n",
       "</style>\n",
       "<table border=\"1\" class=\"dataframe\">\n",
       "  <thead>\n",
       "    <tr style=\"text-align: right;\">\n",
       "      <th></th>\n",
       "      <th>Date time</th>\n",
       "      <th>Temperature</th>\n",
       "      <th>Dew Point</th>\n",
       "      <th>Relative Humidity</th>\n",
       "      <th>Wind Speed</th>\n",
       "      <th>Precipitation</th>\n",
       "      <th>Cloud Cover</th>\n",
       "      <th>Conditions</th>\n",
       "      <th>value</th>\n",
       "    </tr>\n",
       "  </thead>\n",
       "  <tbody>\n",
       "    <tr>\n",
       "      <th>0</th>\n",
       "      <td>2023-01-01</td>\n",
       "      <td>11.0</td>\n",
       "      <td>7.9</td>\n",
       "      <td>82.24</td>\n",
       "      <td>14.2</td>\n",
       "      <td>0.10</td>\n",
       "      <td>47.7</td>\n",
       "      <td>Rain, Partially cloudy</td>\n",
       "      <td>182.636277</td>\n",
       "    </tr>\n",
       "    <tr>\n",
       "      <th>1</th>\n",
       "      <td>2023-01-02</td>\n",
       "      <td>10.5</td>\n",
       "      <td>6.8</td>\n",
       "      <td>79.25</td>\n",
       "      <td>14.7</td>\n",
       "      <td>0.00</td>\n",
       "      <td>87.8</td>\n",
       "      <td>Overcast</td>\n",
       "      <td>182.636277</td>\n",
       "    </tr>\n",
       "    <tr>\n",
       "      <th>2</th>\n",
       "      <td>2023-01-03</td>\n",
       "      <td>15.1</td>\n",
       "      <td>11.3</td>\n",
       "      <td>78.49</td>\n",
       "      <td>28.5</td>\n",
       "      <td>0.00</td>\n",
       "      <td>90.7</td>\n",
       "      <td>Overcast</td>\n",
       "      <td>182.636277</td>\n",
       "    </tr>\n",
       "    <tr>\n",
       "      <th>3</th>\n",
       "      <td>2023-01-04</td>\n",
       "      <td>15.3</td>\n",
       "      <td>12.8</td>\n",
       "      <td>85.43</td>\n",
       "      <td>22.8</td>\n",
       "      <td>0.00</td>\n",
       "      <td>85.1</td>\n",
       "      <td>Overcast</td>\n",
       "      <td>182.636277</td>\n",
       "    </tr>\n",
       "    <tr>\n",
       "      <th>4</th>\n",
       "      <td>2023-01-05</td>\n",
       "      <td>13.5</td>\n",
       "      <td>7.8</td>\n",
       "      <td>70.43</td>\n",
       "      <td>20.2</td>\n",
       "      <td>0.00</td>\n",
       "      <td>75.8</td>\n",
       "      <td>Overcast</td>\n",
       "      <td>182.636277</td>\n",
       "    </tr>\n",
       "    <tr>\n",
       "      <th>...</th>\n",
       "      <td>...</td>\n",
       "      <td>...</td>\n",
       "      <td>...</td>\n",
       "      <td>...</td>\n",
       "      <td>...</td>\n",
       "      <td>...</td>\n",
       "      <td>...</td>\n",
       "      <td>...</td>\n",
       "      <td>...</td>\n",
       "    </tr>\n",
       "    <tr>\n",
       "      <th>299</th>\n",
       "      <td>2023-10-27</td>\n",
       "      <td>20.3</td>\n",
       "      <td>14.8</td>\n",
       "      <td>72.70</td>\n",
       "      <td>15.7</td>\n",
       "      <td>0.00</td>\n",
       "      <td>66.5</td>\n",
       "      <td>Partially cloudy</td>\n",
       "      <td>167.770644</td>\n",
       "    </tr>\n",
       "    <tr>\n",
       "      <th>300</th>\n",
       "      <td>2023-10-28</td>\n",
       "      <td>21.7</td>\n",
       "      <td>15.5</td>\n",
       "      <td>70.61</td>\n",
       "      <td>16.2</td>\n",
       "      <td>0.00</td>\n",
       "      <td>50.1</td>\n",
       "      <td>Partially cloudy</td>\n",
       "      <td>167.770644</td>\n",
       "    </tr>\n",
       "    <tr>\n",
       "      <th>301</th>\n",
       "      <td>2023-10-29</td>\n",
       "      <td>20.7</td>\n",
       "      <td>16.5</td>\n",
       "      <td>77.37</td>\n",
       "      <td>17.2</td>\n",
       "      <td>0.99</td>\n",
       "      <td>90.2</td>\n",
       "      <td>Rain, Overcast</td>\n",
       "      <td>167.770644</td>\n",
       "    </tr>\n",
       "    <tr>\n",
       "      <th>302</th>\n",
       "      <td>2023-10-30</td>\n",
       "      <td>17.1</td>\n",
       "      <td>12.7</td>\n",
       "      <td>75.93</td>\n",
       "      <td>36.5</td>\n",
       "      <td>0.89</td>\n",
       "      <td>79.8</td>\n",
       "      <td>Rain, Overcast</td>\n",
       "      <td>167.770644</td>\n",
       "    </tr>\n",
       "    <tr>\n",
       "      <th>303</th>\n",
       "      <td>2023-10-31</td>\n",
       "      <td>10.3</td>\n",
       "      <td>0.4</td>\n",
       "      <td>50.86</td>\n",
       "      <td>24.7</td>\n",
       "      <td>0.02</td>\n",
       "      <td>79.2</td>\n",
       "      <td>Rain, Overcast</td>\n",
       "      <td>167.770644</td>\n",
       "    </tr>\n",
       "  </tbody>\n",
       "</table>\n",
       "<p>304 rows × 9 columns</p>\n",
       "</div>"
      ],
      "text/plain": [
       "     Date time  Temperature  Dew Point  Relative Humidity  Wind Speed  \\\n",
       "0   2023-01-01         11.0        7.9              82.24        14.2   \n",
       "1   2023-01-02         10.5        6.8              79.25        14.7   \n",
       "2   2023-01-03         15.1       11.3              78.49        28.5   \n",
       "3   2023-01-04         15.3       12.8              85.43        22.8   \n",
       "4   2023-01-05         13.5        7.8              70.43        20.2   \n",
       "..         ...          ...        ...                ...         ...   \n",
       "299 2023-10-27         20.3       14.8              72.70        15.7   \n",
       "300 2023-10-28         21.7       15.5              70.61        16.2   \n",
       "301 2023-10-29         20.7       16.5              77.37        17.2   \n",
       "302 2023-10-30         17.1       12.7              75.93        36.5   \n",
       "303 2023-10-31         10.3        0.4              50.86        24.7   \n",
       "\n",
       "     Precipitation  Cloud Cover              Conditions       value  \n",
       "0             0.10         47.7  Rain, Partially cloudy  182.636277  \n",
       "1             0.00         87.8                Overcast  182.636277  \n",
       "2             0.00         90.7                Overcast  182.636277  \n",
       "3             0.00         85.1                Overcast  182.636277  \n",
       "4             0.00         75.8                Overcast  182.636277  \n",
       "..             ...          ...                     ...         ...  \n",
       "299           0.00         66.5        Partially cloudy  167.770644  \n",
       "300           0.00         50.1        Partially cloudy  167.770644  \n",
       "301           0.99         90.2          Rain, Overcast  167.770644  \n",
       "302           0.89         79.8          Rain, Overcast  167.770644  \n",
       "303           0.02         79.2          Rain, Overcast  167.770644  \n",
       "\n",
       "[304 rows x 9 columns]"
      ]
     },
     "execution_count": 65,
     "metadata": {},
     "output_type": "execute_result"
    }
   ],
   "source": [
    "df"
   ]
  },
  {
   "cell_type": "code",
   "execution_count": 66,
   "metadata": {},
   "outputs": [
    {
     "data": {
      "text/plain": [
       "Date time            0\n",
       "Temperature          0\n",
       "Dew Point            0\n",
       "Relative Humidity    0\n",
       "Wind Speed           0\n",
       "Precipitation        0\n",
       "Cloud Cover          0\n",
       "Conditions           0\n",
       "value                0\n",
       "dtype: int64"
      ]
     },
     "execution_count": 66,
     "metadata": {},
     "output_type": "execute_result"
    }
   ],
   "source": [
    "df.isna().sum()"
   ]
  }
 ],
 "metadata": {
  "kernelspec": {
   "display_name": "Python 3",
   "language": "python",
   "name": "python3"
  },
  "language_info": {
   "codemirror_mode": {
    "name": "ipython",
    "version": 3
   },
   "file_extension": ".py",
   "mimetype": "text/x-python",
   "name": "python",
   "nbconvert_exporter": "python",
   "pygments_lexer": "ipython3",
   "version": "3.11.5"
  }
 },
 "nbformat": 4,
 "nbformat_minor": 2
}
